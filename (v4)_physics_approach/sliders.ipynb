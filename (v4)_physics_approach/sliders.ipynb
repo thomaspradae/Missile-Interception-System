{
 "cells": [
  {
   "cell_type": "code",
   "execution_count": 1,
   "metadata": {},
   "outputs": [
    {
     "data": {
      "application/vnd.jupyter.widget-view+json": {
       "model_id": "5d6d25f1ad2c4ba0aab42adb29a35c0b",
       "version_major": 2,
       "version_minor": 0
      },
      "text/plain": [
       "interactive(children=(IntSlider(value=55, description='initial_velocity', min=10), IntSlider(value=45, descrip…"
      ]
     },
     "execution_count": 1,
     "metadata": {},
     "output_type": "execute_result"
    }
   ],
   "source": [
    "import numpy as np\n",
    "import matplotlib.pyplot as plt\n",
    "from ipywidgets import interactive\n",
    "import math\n",
    "\n",
    "def missile_trajectory(initial_velocity, angle_xy, angle_z):\n",
    "    # Convert angles from degrees to radians\n",
    "    theta = np.radians(angle_xy)\n",
    "    phi = np.radians(angle_z)\n",
    "    \n",
    "    # Calculate the components of the initial velocity\n",
    "    vx = initial_velocity * np.cos(theta) * np.cos(phi)\n",
    "    vy = initial_velocity * np.sin(theta) * np.cos(phi)\n",
    "    vz = initial_velocity * np.sin(phi)\n",
    "    \n",
    "    # Define time and calculate the trajectory\n",
    "    t = np.linspace(0, 2 * initial_velocity / 9.81, num=500)\n",
    "    x = vx * t\n",
    "    y = vy * t\n",
    "    z = vz * t - 0.5 * 9.81 * t**2\n",
    "    \n",
    "    plt.figure(figsize=(10, 5))\n",
    "    plt.plot(x, y, label=\"XY Plane Trajectory\")\n",
    "    plt.xlim(0, max(x))\n",
    "    plt.ylim(0, max(y))\n",
    "    plt.xlabel('X Distance')\n",
    "    plt.ylabel('Y Distance')\n",
    "    plt.title('Missile Trajectory in 2D')\n",
    "    plt.legend()\n",
    "    plt.grid(True)\n",
    "    plt.show()\n",
    "\n",
    "# Interactive sliders\n",
    "interactive_plot = interactive(missile_trajectory,\n",
    "                               initial_velocity=(10, 100, 1),\n",
    "                               angle_xy=(0, 90, 1),\n",
    "                               angle_z=(0, 90, 1))\n",
    "\n",
    "interactive_plot\n"
   ]
  }
 ],
 "metadata": {
  "kernelspec": {
   "display_name": "Python 3",
   "language": "python",
   "name": "python3"
  },
  "language_info": {
   "codemirror_mode": {
    "name": "ipython",
    "version": 3
   },
   "file_extension": ".py",
   "mimetype": "text/x-python",
   "name": "python",
   "nbconvert_exporter": "python",
   "pygments_lexer": "ipython3",
   "version": "3.11.9"
  }
 },
 "nbformat": 4,
 "nbformat_minor": 2
}
