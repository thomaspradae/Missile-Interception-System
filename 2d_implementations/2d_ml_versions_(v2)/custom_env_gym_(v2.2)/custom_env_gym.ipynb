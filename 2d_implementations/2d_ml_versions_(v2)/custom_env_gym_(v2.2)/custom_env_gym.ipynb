{
 "cells": [
  {
   "cell_type": "code",
   "execution_count": 1,
   "metadata": {},
   "outputs": [],
   "source": [
    "import gym\n",
    "from gym import Env\n",
    "from gym.spaces import Discrete, Box # Look at this later\n",
    "import numpy as np\n",
    "import random\n",
    "\n",
    "MAX_MISSILES = 15\n",
    "NUM_BASE_FEATURES = 12\n",
    "NUM_MISSILE_FEATURES = 10"
   ]
  },
  {
   "cell_type": "code",
   "execution_count": 2,
   "metadata": {},
   "outputs": [],
   "source": [
    "class ShowerEnv(Env):\n",
    "    def __init__(self):\n",
    "        self.action_space = gym.spaces.Tuple((\n",
    "            gym.spaces.Discrete(2),  # 0: Don't create, 1: Create a missile\n",
    "            gym.spaces.Discrete(2),  # 0: Don't fire, 1: Fire a missile\n",
    "            gym.spaces.Box(low=np.array([0]), high=np.array([2*np.pi]), dtype=np.float32)  # Angle for the missile\n",
    "        ))\n",
    "\n",
    "        # Observation space\n",
    "        base_low = np.array([0, -30000, -3, -2, -4.7, -4.7, -10, -10, -10, -10, 0, -2])\n",
    "        base_high = np.array([10000, 30000, 3, 2, 4.7, 4.7, 10, 10, 10, 10, 2*np.pi, 30])\n",
    "        missile_low = np.array([-9999, -9999, -9999, -9999, -9999, -9999, -9999, -9999, -9999])\n",
    "        missile_high = np.array([1, 10, 10, 2*np.pi, 10000, 10000, 30, 30, 2000])\n",
    "\n",
    "        missile_low = np.tile(missile_low, MAX_MISSILES)\n",
    "        missile_high = np.tile(missile_high, MAX_MISSILES)\n",
    "\n",
    "        low = np.concatenate((base_low, missile_low))\n",
    "        high = np.concatenate((base_high, missile_high))\n",
    "\n",
    "        self.observation_space = Box(low=low, high=high, dtype=np.float32)\n",
    "\n",
    "    \n",
    "    def step(self):\n",
    "        pass\n",
    "    def render(self):\n",
    "        pass\n",
    "    def reset(self):\n",
    "        pass\n"
   ]
  },
  {
   "cell_type": "code",
   "execution_count": null,
   "metadata": {},
   "outputs": [],
   "source": [
    "# Initialization\n",
    "# Step function\n",
    "# Reset function"
   ]
  },
  {
   "cell_type": "code",
   "execution_count": 81,
   "metadata": {},
   "outputs": [
    {
     "name": "stdout",
     "output_type": "stream",
     "text": [
      "Action Space: Box(-1.0, 1.0, (2,), float32)\n",
      "Sample Action: [-0.6882035   0.25002533]\n"
     ]
    }
   ],
   "source": [
    "import gymnasium as gym\n",
    "import numpy as np\n",
    "\n",
    "# Create a Box for two continuous actions\n",
    "action_space = gym.spaces.Box(low=np.array([-1, -1]), high=np.array([1, 1]), dtype=np.float32)\n",
    "\n",
    "print(\"Action Space:\", action_space)\n",
    "print(\"Sample Action:\", action_space.sample())  # Generates a random action within the space\n"
   ]
  }
 ],
 "metadata": {
  "kernelspec": {
   "display_name": "Python 3",
   "language": "python",
   "name": "python3"
  },
  "language_info": {
   "codemirror_mode": {
    "name": "ipython",
    "version": 3
   },
   "file_extension": ".py",
   "mimetype": "text/x-python",
   "name": "python",
   "nbconvert_exporter": "python",
   "pygments_lexer": "ipython3",
   "version": "3.11.1"
  }
 },
 "nbformat": 4,
 "nbformat_minor": 2
}
