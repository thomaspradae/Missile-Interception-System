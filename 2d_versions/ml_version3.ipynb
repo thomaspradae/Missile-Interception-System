{
 "cells": [
  {
   "cell_type": "markdown",
   "metadata": {},
   "source": [
    "# Missle Interceptation System \n",
    "ML Implementation - v.3\n",
    "\n",
    "##### Overview\n",
    "**Objective**\n",
    "\n",
    "Intercept the missle that's fired from the \"Attack\" coordinates before it reaches the \"Target\" coordinates. \n",
    "\n",
    "**Actions**\n",
    "\n",
    "Adjust the firing angle, controls when the missle is fired.\n",
    "\n",
    "**Rewards**\n",
    "\n",
    "- If the missle is intercepted, the agent receives a reward.\n",
    "- If the missle reaches the target, the agent receives a penalty.\n",
    "- Missles that are not intercepted or have not reached the target within 100 steps are terminated. (Probably something like this would help the agent learn faster, so I'll look into it)\n",
    "- Interceptions that are further from the target are preffered, meaning: the agent receives a penalty for every step it takes. (This is to encourage the agent to intercept the missle as soon as possible)\n",
    "- Interception missles (that miss) that are closer to the enemy missle are preffered, meaning the agent will be encouraged to aim towards the enemy missle. \n",
    "\n",
    "**Observations**\n",
    "- "
   ]
  },
  {
   "cell_type": "code",
   "execution_count": null,
   "metadata": {},
   "outputs": [],
   "source": []
  },
  {
   "cell_type": "markdown",
   "metadata": {},
   "source": []
  }
 ],
 "metadata": {
  "language_info": {
   "name": "python"
  }
 },
 "nbformat": 4,
 "nbformat_minor": 2
}
