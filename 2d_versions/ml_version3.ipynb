{
 "cells": [
  {
   "cell_type": "markdown",
   "metadata": {},
   "source": [
    "# Missle Interceptation System \n",
    "v.3 - ML Implementation (2D)\n",
    "\n",
    "##### Overview\n",
    "**Objective**\n",
    "\n",
    "Intercept the missle that's fired from the \"Attack\" coordinates before it reaches the \"Target\" coordinates. \n",
    "\n",
    "**Actions**\n",
    "\n",
    "Adjust the firing angle, controls when the missle is fired.\n",
    "\n",
    "**Rewards**\n",
    "\n",
    "- If the missle is intercepted, the agent receives a reward.\n",
    "- If the missle reaches the target, the agent receives a penalty.\n",
    "- Missles that are not intercepted or have not reached the target within 100 steps are terminated. (Probably something like this would help the agent learn faster, so I'll look into it)\n",
    "- Interceptions that are further from the target are preffered, meaning: the agent receives a penalty for every step it takes. (This is to encourage the agent to intercept the missle as soon as possible)\n",
    "- Interception missles (that miss) that are closer to the enemy missle are preffered, meaning the agent will be encouraged to aim towards the enemy missle. \n",
    "\n",
    "**Environment**\n",
    "- We start off with a plane. \n",
    "- Each coordinate is represented by a 2D point. Different coordinates have different possible x and y values. They are the following. \n",
    "\n",
    "_Target Coordinates_\n",
    "\n",
    "```python\n",
    "x = random.uniform(-3.0, 3.0)\n",
    "y = random.uniform(2.0, 6.0)\n",
    "self.coordinates = np.array([x, y])\n",
    "```\n",
    "\n",
    "_Defense Coordinates_\n",
    "\n",
    "```python\n",
    "x = random.uniform(target.coordinates[0] - 1.5, target.coordinates[0] + 1.5)\n",
    "y = random.uniform(target.coordinates[1] - 1.5, target.coordinates[1]-0.1)\n",
    "self.coordinates = np.array([x, y])\n",
    "```\n",
    "\n",
    "_Attack Coordinates_\n",
    "\n",
    "```python\n",
    "x_side1 = random.uniform(-9.0, target.coordinates[0] - 2)\n",
    "x_side2 = random.uniform(target.coordinates[0] + 2, 9.0)\n",
    "y_deep = random.uniform(-9.0, target.coordinates[1] - 0.1)\n",
    "x_below = random.uniform(target.coordinates[0] - 2, target.coordinates[0] + 2)\n",
    "y_below = random.uniform(-9.0, target.coordinates[1] - 2)\n",
    "\n",
    "coord_side1 = np.array([x_side1, y_deep])\n",
    "coord_side2 = np.array([x_side2, y_deep])\n",
    "coord_below = np.array([x_below, y_below])\n",
    "\n",
    "self.coordinates = random.choice([coord_side1, coord_side2, coord_below])\n",
    "```\n",
    "\n",
    "The code is pretty straight forward, we start off our simulation once a new point is generated, and we keep some track of time, I'm not sure how to fucking do this lol, as, I think we could maybe try and have discrete values, but the question might be how discrete, meaning, with each pass of time, and also, wondering, how time will pass, u see, when looking at the slider, this is basically what we need, but the thing is that how I see it, is that this is some sort of loop, and you keep it moving. \n",
    "\n",
    "\n"
   ]
  },
  {
   "cell_type": "code",
   "execution_count": null,
   "metadata": {},
   "outputs": [],
   "source": []
  },
  {
   "cell_type": "markdown",
   "metadata": {},
   "source": [
    "# "
   ]
  },
  {
   "cell_type": "markdown",
   "metadata": {},
   "source": [
    "# The environment is a"
   ]
  },
  {
   "cell_type": "markdown",
   "metadata": {},
   "source": []
  }
 ],
 "metadata": {
  "language_info": {
   "name": "python"
  }
 },
 "nbformat": 4,
 "nbformat_minor": 2
}
