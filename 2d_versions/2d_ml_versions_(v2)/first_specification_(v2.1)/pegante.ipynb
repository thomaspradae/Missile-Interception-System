{
 "cells": [
  {
   "cell_type": "code",
   "execution_count": 4,
   "metadata": {},
   "outputs": [
    {
     "name": "stdout",
     "output_type": "stream",
     "text": [
      "Target Coordinates: [ 0.42841557 -0.28444378]\n",
      "Defense Coordinates: [ 0.69392599 -1.28370979]\n",
      "Attack Coordinates: [0.39271783 3.13080828]\n"
     ]
    }
   ],
   "source": [
    "import numpy as np\n",
    "import random\n",
    "import matplotlib.pyplot as plt\n",
    "from matplotlib.patches import Circle\n",
    "\n",
    "random.seed(10)\n",
    "\n",
    "class Point: \n",
    "    def __init__(self, type):\n",
    "        self.type = type\n",
    "        self.coordinates = np.array([0, 0])\n",
    "        self.radius = 0.2\n",
    "\n",
    "    def create_target(self):\n",
    "        x = random.uniform(-3.0, 3.0)\n",
    "        y = random.uniform(-2.0, 2.0)\n",
    "        self.coordinates = np.array([x, y])\n",
    "        return self.coordinates\n",
    "    \n",
    "    def create_defense(self, target):\n",
    "        x = random.uniform((target.coordinates[0] - self.radius) - 1.5, (target.coordinates[0] + self.radius) + 1.5)\n",
    "        y = random.uniform((target.coordinates[1] - self.radius) - 1.5, (target.coordinates[1] + self.radius) + 1.5)\n",
    "        self.coordinates = np.array([x, y])\n",
    "        return self.coordinates\n",
    "    \n",
    "    def create_attack(self, target, defense):\n",
    "        x_side_left = random.uniform(-9.5, (target.coordinates[0] - self.radius) - 2)\n",
    "        x_side_right = random.uniform((target.coordinates[0] + self.radius) + 2, 9.5)\n",
    "        y_below = random.uniform((target.coordinates[1] - self.radius) - 2, -9.5)\n",
    "        y_above = random.uniform((target.coordinates[1] + self.radius) + 2, 9.5)\n",
    "        x_inclusive = random.uniform(-9.5, 9.5)\n",
    "        y_inclusive = random.uniform(-9.5, 9.5)\n",
    "        y_below_x_inclusive = np.array([x_inclusive, y_below])\n",
    "        y_above_x_inclusive = np.array([x_inclusive, y_above])\n",
    "        x_left_y_inclusive = np.array([x_side_left, y_inclusive])\n",
    "        x_right_y_inclusive = np.array([x_side_right, y_inclusive])\n",
    "\n",
    "        self.coordinates = random.choice([y_below_x_inclusive, y_above_x_inclusive, x_left_y_inclusive, x_right_y_inclusive])\n",
    "        return self.coordinates\n",
    "    \n",
    "target = Point(\"target\")\n",
    "target.create_target()\n",
    "print(\"Target Coordinates:\", target.coordinates)\n",
    "\n",
    "defense = Point(\"defense\")\n",
    "defense.create_defense(target)\n",
    "print(\"Defense Coordinates:\", defense.coordinates)\n",
    "\n",
    "attack = Point(\"attack\")\n",
    "attack.create_attack(target, defense)\n",
    "print(\"Attack Coordinates:\", attack.coordinates)"
   ]
  },
  {
   "cell_type": "code",
   "execution_count": 11,
   "metadata": {},
   "outputs": [
    {
     "name": "stdout",
     "output_type": "stream",
     "text": [
      "0.428415568139481 -0.2844437812995415\n",
      "0.2\n",
      "0.69392599199668 -1.2837097920252356\n",
      "0.2\n",
      "0.39271783315856723 3.130808282220004\n",
      "0.2\n"
     ]
    },
    {
     "data": {
      "image/png": "[encoded data removed]",
      "text/plain": [
       "<Figure size 640x480 with 1 Axes>"
      ]
     },
     "metadata": {},
     "output_type": "display_data"
    }
   ],
   "source": [
    "coords = [target.coordinates, defense.coordinates, attack.coordinates]\n",
    "radii = [target.radius, defense.radius, attack.radius]\n",
    "\n",
    "for i in range(len(coords)):\n",
    "    print(coords[i][0], coords[i][1])\n",
    "    print(radii[i])\n",
    "\n",
    "fig, ax = plt.subplots()\n",
    "plt.xlim(-10, 10)\n",
    "plt.ylim(-10, 10)\n",
    "\n",
    "plt.axhline(0, color='black',linewidth=0.5)\n",
    "plt.axvline(0, color='black',linewidth=0.5)\n",
    "plt.grid(True)\n",
    "\n",
    "for i in range(len(coords)):\n",
    "    circle = Circle((coords[i][0], coords[i][1]), radii[i], edgecolor='black', facecolor='None')\n",
    "    ax.add_patch(circle)\n",
    "\n"
   ]
  }
 ],
 "metadata": {
  "kernelspec": {
   "display_name": "Python 3",
   "language": "python",
   "name": "python3"
  },
  "language_info": {
   "codemirror_mode": {
    "name": "ipython",
    "version": 3
   },
   "file_extension": ".py",
   "mimetype": "text/x-python",
   "name": "python",
   "nbconvert_exporter": "python",
   "pygments_lexer": "ipython3",
   "version": "3.11.1"
  }
 },
 "nbformat": 4,
 "nbformat_minor": 2
}
