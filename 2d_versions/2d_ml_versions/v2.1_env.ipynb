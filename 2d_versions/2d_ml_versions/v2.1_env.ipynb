{
 "cells": [
  {
   "cell_type": "code",
   "execution_count": 1,
   "metadata": {},
   "outputs": [],
   "source": [
    "from gym import Env\n",
    "from gym import spaces\n",
    "import random\n",
    "import numpy as np\n",
    "from IPython.display import clear_output\n",
    "import os \n",
    "import math\n",
    "\n",
    "class Point: \n",
    "    def __init__(self, type):\n",
    "        self.type = type\n",
    "        self.coordinates = np.array([0, 0])\n",
    "\n",
    "    def create_target(self):\n",
    "        x = random.uniform(-3.0, 3.0)\n",
    "        y = random.uniform(-2.0, 2.0)\n",
    "        self.coordinates = np.array([x, y])\n",
    "        return self.coordinates\n",
    "    \n",
    "    def create_defense(self, target):\n",
    "        x = random.uniform(target.coordinates[0] - 1.5, target.coordinates[0] + 1.5)\n",
    "        y = random.uniform(target.coordinates[1] - 1.5, target.coordinates[1] + 1.5)\n",
    "        self.coordinates = np.array([x, y])\n",
    "        return self.coordinates\n",
    "\n",
    "    def create_defense_missile(self, defense):\n",
    "        self.coordinates = np.array(defense.coordinates[0], defense.coordinates[1])\n",
    "        self.fired = False\n",
    "        self.firing_angle = 0\n",
    "        self.firing_angle_rad = math.radians(self.firing_angle)\n",
    "        return self.coordinates\n",
    "    \n",
    "    def create_attack(self, target, defense):\n",
    "        x_side_left = random.uniform(-9.5, target.coordinates[0] - 2)\n",
    "        x_side_right = random.uniform(target.coordinates[0] + 2, 9.5)\n",
    "        y_below = random.uniform(target.coordinates[1] - 2, -9.5)\n",
    "        y_above = random.uniform(target.coordinates[1] + 2, 9.5)\n",
    "        x_inclusive = random.uniform(-9.5, 9.5)\n",
    "        y_inclusive = random.uniform(-9.5, 9.5)\n",
    "        y_below_x_inclusive = np.array([x_inclusive, y_below])\n",
    "        y_above_x_inclusive = np.array([x_inclusive, y_above])\n",
    "        x_left_y_inclusive = np.array([x_side_left, y_inclusive])\n",
    "        x_right_y_inclusive = np.array([x_side_right, y_inclusive])\n",
    "\n",
    "        self.coordinates = random.choice([y_below_x_inclusive, y_above_x_inclusive, x_left_y_inclusive, x_right_y_inclusive])\n",
    "        return self.coordinates\n",
    "\n",
    "class MissileCustomEnv(Env):\n",
    "    def __init__(self):\n",
    "        self.cumulative_reward = 0\n"
   ]
  }
 ],
 "metadata": {
  "kernelspec": {
   "display_name": "Python 3",
   "language": "python",
   "name": "python3"
  },
  "language_info": {
   "codemirror_mode": {
    "name": "ipython",
    "version": 3
   },
   "file_extension": ".py",
   "mimetype": "text/x-python",
   "name": "python",
   "nbconvert_exporter": "python",
   "pygments_lexer": "ipython3",
   "version": "3.11.1"
  }
 },
 "nbformat": 4,
 "nbformat_minor": 2
}
